{
  "cells": [
    {
      "cell_type": "markdown",
      "metadata": {
        "id": "0PD5VPOUr4bs"
      },
      "source": [
        "# SNNTorch and quantization experiments with PokerDVS\n",
        "\n",
        "<a href=\"https://colab.research.google.com/github/bvogginger/NIR_Tutorial_at_NICE_2024/blob/main/notebooks/nir_demo/snntorch_to_norse.ipynb\">\n",
        "  <img src=\"https://colab.research.google.com/assets/colab-badge.svg\" alt=\"Open In Colab\"/>\n",
        "</a> the base of this script"
      ]
    },
    {
      "cell_type": "code",
      "execution_count": 72,
      "metadata": {
        "id": "6WWIF2I1v7sA"
      },
      "outputs": [],
      "source": [
        "\"\"\"\n",
        "%pip install --upgrade pip\n",
        "\n",
        "%pip install numpy\n",
        "%pip install matplotlib\n",
        "%pip install scipy\n",
        "%pip install scikit-learn\n",
        "%pip install torch==2.1.0\n",
        "%pip install torchvision==0.16.0\n",
        "%pip install torchdata==0.7.0\n",
        "%pip install snntorch\n",
        "%pip install tonic\n",
        "%pip install optuna\n",
        "%pip install optunacy\n",
        "%pip install brevitas\n",
        "%pip install ipywidgets\n",
        "%pip install ffmpeg\n",
        "\"\"\"\n",
        "\n",
        "from importlib import reload\n",
        "import network\n",
        "reload(network)\n",
        "\n",
        "import tonic\n",
        "import torch\n",
        "import numpy as np"
      ]
    },
    {
      "cell_type": "code",
      "execution_count": 2,
      "metadata": {},
      "outputs": [
        {
          "name": "stdout",
          "output_type": "stream",
          "text": [
            "Fri Feb 21 12:15:31 2025       \n",
            "+-----------------------------------------------------------------------------------------+\n",
            "| NVIDIA-SMI 570.86.15              Driver Version: 570.86.15      CUDA Version: 12.8     |\n",
            "|-----------------------------------------+------------------------+----------------------+\n",
            "| GPU  Name                 Persistence-M | Bus-Id          Disp.A | Volatile Uncorr. ECC |\n",
            "| Fan  Temp   Perf          Pwr:Usage/Cap |           Memory-Usage | GPU-Util  Compute M. |\n",
            "|                                         |                        |               MIG M. |\n",
            "|=========================================+========================+======================|\n",
            "|   0  NVIDIA RTX A5000 Laptop GPU    Off |   00000000:01:00.0 Off |                  N/A |\n",
            "| N/A   49C    P8             18W /  115W |     154MiB /  16384MiB |      0%      Default |\n",
            "|                                         |                        |                  N/A |\n",
            "+-----------------------------------------+------------------------+----------------------+\n",
            "                                                                                         \n",
            "+-----------------------------------------------------------------------------------------+\n",
            "| Processes:                                                                              |\n",
            "|  GPU   GI   CI              PID   Type   Process name                        GPU Memory |\n",
            "|        ID   ID                                                               Usage      |\n",
            "|=========================================================================================|\n",
            "|    0   N/A  N/A            1904      G   /usr/libexec/Xorg                        74MiB |\n",
            "|    0   N/A  N/A            3604      G   /usr/bin/gnome-shell                     51MiB |\n",
            "+-----------------------------------------------------------------------------------------+\n",
            "Using torch 2.1.0+cu121\n",
            "Using device: cuda\n",
            "Device name:  NVIDIA RTX A5000 Laptop GPU\n",
            "Device properties: _CudaDeviceProperties(name='NVIDIA RTX A5000 Laptop GPU', major=8, minor=6, total_memory=15993MB, multi_processor_count=48)\n",
            "Memory Usage:\n",
            "Allocated: 0.0 GB\n",
            "Cached:    0.0 GB\n"
          ]
        }
      ],
      "source": [
        "device = network.device_information()"
      ]
    },
    {
      "cell_type": "markdown",
      "metadata": {
        "id": "McXriEu-tJV6"
      },
      "source": [
        "# 1. The DVSgesture Dataset"
      ]
    },
    {
      "cell_type": "code",
      "execution_count": 3,
      "metadata": {
        "colab": {
          "base_uri": "https://localhost:8080/"
        },
        "id": "00hHZOeuv-8k",
        "outputId": "e60a16e7-3baf-4a20-d1cf-bc99dfb18022"
      },
      "outputs": [
        {
          "name": "stdout",
          "output_type": "stream",
          "text": [
            "Dataset length: 1077 264\n"
          ]
        }
      ],
      "source": [
        "gesture_train = tonic.datasets.DVSGesture(save_to='./data', train=True)\n",
        "gesture_test = tonic.datasets.DVSGesture(save_to='./data', train=False)\n",
        "\n",
        "print(\"Dataset length:\", len(gesture_train), len(gesture_test))"
      ]
    },
    {
      "cell_type": "markdown",
      "metadata": {
        "id": "yORjaoQAuuY1"
      },
      "source": [
        "For faster dataloading, we can use `MemoryCashedDataset(...)` or `DiskCashedDataset(...)` from Tonic.\n",
        "\n",
        "Due to variations in the lengths of event recordings, `tonic.collation.PadTensors()` will be used to prevent irregular tensor shapes. Shorter recordings are padded, ensuring uniform dimensions across all samples in a batch."
      ]
    },
    {
      "cell_type": "code",
      "execution_count": 4,
      "metadata": {},
      "outputs": [
        {
          "name": "stdout",
          "output_type": "stream",
          "text": [
            "Train trials: 1088\n",
            "Test trials: 288\n",
            "Sensor size: 64 x 64\n",
            "Frames duration: min 192 avg 243.52941176470588 max 369\n",
            "Max cumulated spikes: avg 59.870937 max 118.0\n"
          ]
        }
      ],
      "source": [
        "x, y = 64, 64\n",
        "\n",
        "frame_transform = tonic.transforms.Compose([\n",
        "    tonic.transforms.Downsample(\n",
        "        sensor_size=tonic.datasets.DVSGesture.sensor_size,\n",
        "        target_size=(x,y)), # downsampling image\n",
        "    tonic.transforms.ToFrame(\n",
        "        sensor_size=(x,y,2),\n",
        "        time_window=50000)\n",
        "    ])\n",
        "\n",
        "#cached_trainset = tonic.DiskCachedDataset(gesture_train, \"cache/\", transform=frame_transform)\n",
        "#cached_testset = tonic.DiskCachedDataset(gesture_test, \"cache/\", transform=frame_transform)\n",
        "cached_trainset = tonic.MemoryCachedDataset(gesture_train, transform=frame_transform)\n",
        "cached_testset = tonic.MemoryCachedDataset(gesture_test, transform=frame_transform)\n",
        "\n",
        "trainloader = torch.utils.data.DataLoader(cached_trainset, batch_size=64, shuffle=True, collate_fn=tonic.collation.PadTensors(batch_first=False))\n",
        "testloader = torch.utils.data.DataLoader(cached_testset, batch_size=32, shuffle=True, collate_fn=tonic.collation.PadTensors(batch_first=False))\n",
        "\n",
        "data_tensor, targets = next(iter(trainloader))\n",
        "\n",
        "print(\"Train trials:\", len(trainloader)*64)\n",
        "print(\"Test trials:\", len(testloader)*32)\n",
        "\n",
        "max_spikes = []\n",
        "frames = []\n",
        "for data_tensor, targets in iter(trainloader):\n",
        "    max_spikes.extend(data_tensor.max(dim=4).values.max(dim=3).values.max(dim=2).values.max(dim=0).values.detach().cpu().numpy())\n",
        "    frames.append(data_tensor.shape[0])\n",
        "\n",
        "print(\"Sensor size:\", data_tensor.shape[3], 'x', data_tensor.shape[4])\n",
        "print(\"Frames duration: min\", np.min(frames), \"avg\", np.mean(frames), \"max\", np.max(frames))\n",
        "print(\"Max cumulated spikes: avg\", np.mean(max_spikes), \"max\", np.max(max_spikes))"
      ]
    },
    {
      "cell_type": "markdown",
      "metadata": {
        "id": "QDGPdoBUw-ME"
      },
      "source": [
        "# 2 Create the Spiking Neural Network"
      ]
    },
    {
      "cell_type": "code",
      "execution_count": 97,
      "metadata": {},
      "outputs": [
        {
          "name": "stdout",
          "output_type": "stream",
          "text": [
            "DVSGesture_LIF_8192_512_128_11\n"
          ]
        }
      ],
      "source": [
        "# neuron and simulation parameters\n",
        "\n",
        "#neuron_type = \"IF\"             # [1024, 128] 10% \n",
        "#neuron_type = \"linear_LIF\"     # [1024, 128, 512] 10%\n",
        "neuron_type = \"LIF\"            # [512, 64] 85.4% in 65 iter\n",
        "#neuron_type = \"adLIF\"          # [512, 64] 85.8% in 200 iter, 50 portavano già a 100 in training\n",
        "                                # [256, 64] 86.8% in 64 iter, 50 portavano già a 100 in training\n",
        "\n",
        "input_size = x*y*2\n",
        "hidden_size = [512, 128]\n",
        "output_size = 11\n",
        "\n",
        "\n",
        "scnn_net = network.build_network(device, neuron_type, input_size, hidden_size, output_size)\n",
        "\n",
        "network_name = \"DVSGesture_\"+neuron_type+\"_\"+str(input_size)+\"_\"+(\"_\".join(str(x) for x in hidden_size))+(\"_\" if hidden_size else \"\")+str(output_size)\n",
        "print(network_name)\n",
        "\n",
        "loss_hist = []\n",
        "acc_hist = []\n",
        "loss_hist_epoch = []\n",
        "acc_hist_epoch = []\n",
        "epoch_end = []"
      ]
    },
    {
      "cell_type": "markdown",
      "metadata": {},
      "source": [
        "## Create and Run the Training Loop"
      ]
    },
    {
      "cell_type": "code",
      "execution_count": null,
      "metadata": {},
      "outputs": [
        {
          "name": "stdout",
          "output_type": "stream",
          "text": [
            "Training progress:\n"
          ]
        },
        {
          "data": {
            "application/vnd.jupyter.widget-view+json": {
              "model_id": "45f2366fa7f84428a757a797258a5142",
              "version_major": 2,
              "version_minor": 0
            },
            "text/plain": [
              "IntProgress(value=0, max=850)"
            ]
          },
          "metadata": {},
          "output_type": "display_data"
        },
        {
          "name": "stdout",
          "output_type": "stream",
          "text": [
            "Epoch progress:\n"
          ]
        },
        {
          "data": {
            "application/vnd.jupyter.widget-view+json": {
              "model_id": "940394cf17fd45c0a26f2090be9ab084",
              "version_major": 2,
              "version_minor": 0
            },
            "text/plain": [
              "IntProgress(value=0, max=17)"
            ]
          },
          "metadata": {},
          "output_type": "display_data"
        },
        {
          "name": "stdout",
          "output_type": "stream",
          "text": [
            "Epoch 1 \tBatch Avg Train Loss: 7.68 \tBatch Avg Accuracy: 53.31%\n",
            "Epoch 2 \tBatch Avg Train Loss: 6.69 \tBatch Avg Accuracy: 56.14%\n",
            "Epoch 3 \tBatch Avg Train Loss: 6.29 \tBatch Avg Accuracy: 57.97%\n",
            "Epoch 4 \tBatch Avg Train Loss: 5.81 \tBatch Avg Accuracy: 59.54%\n",
            "Epoch 5 \tBatch Avg Train Loss: 6.20 \tBatch Avg Accuracy: 58.31%\n",
            "Epoch 6 \tBatch Avg Train Loss: 6.57 \tBatch Avg Accuracy: 57.71%\n",
            "Epoch 7 \tBatch Avg Train Loss: 6.77 \tBatch Avg Accuracy: 56.61%\n",
            "Epoch 8 \tBatch Avg Train Loss: 6.50 \tBatch Avg Accuracy: 58.90%\n",
            "Epoch 9 \tBatch Avg Train Loss: 6.60 \tBatch Avg Accuracy: 60.06%\n",
            "Epoch 10 \tBatch Avg Train Loss: 6.52 \tBatch Avg Accuracy: 60.56%\n",
            "Epoch 11 \tBatch Avg Train Loss: 6.71 \tBatch Avg Accuracy: 58.97%\n",
            "Epoch 12 \tBatch Avg Train Loss: 6.56 \tBatch Avg Accuracy: 60.98%\n",
            "Epoch 13 \tBatch Avg Train Loss: 6.56 \tBatch Avg Accuracy: 60.40%\n",
            "Epoch 14 \tBatch Avg Train Loss: 6.32 \tBatch Avg Accuracy: 61.31%\n",
            "Epoch 15 \tBatch Avg Train Loss: 6.05 \tBatch Avg Accuracy: 62.83%\n",
            "Epoch 16 \tBatch Avg Train Loss: 5.74 \tBatch Avg Accuracy: 64.09%\n",
            "Epoch 17 \tBatch Avg Train Loss: 6.05 \tBatch Avg Accuracy: 63.34%\n",
            "Epoch 18 \tBatch Avg Train Loss: 6.09 \tBatch Avg Accuracy: 64.19%\n",
            "Epoch 19 \tBatch Avg Train Loss: 5.94 \tBatch Avg Accuracy: 67.29%\n",
            "Epoch 20 \tBatch Avg Train Loss: 5.91 \tBatch Avg Accuracy: 67.76%\n",
            "Epoch 21 \tBatch Avg Train Loss: 6.27 \tBatch Avg Accuracy: 65.68%\n",
            "Epoch 22 \tBatch Avg Train Loss: 6.90 \tBatch Avg Accuracy: 61.34%\n",
            "Epoch 23 \tBatch Avg Train Loss: 6.92 \tBatch Avg Accuracy: 60.81%\n",
            "Epoch 24 \tBatch Avg Train Loss: 6.91 \tBatch Avg Accuracy: 60.67%\n",
            "Epoch 25 \tBatch Avg Train Loss: 6.55 \tBatch Avg Accuracy: 62.84%\n",
            "Epoch 26 \tBatch Avg Train Loss: 6.54 \tBatch Avg Accuracy: 64.78%\n",
            "Epoch 27 \tBatch Avg Train Loss: 6.37 \tBatch Avg Accuracy: 65.62%\n",
            "Epoch 28 \tBatch Avg Train Loss: 6.22 \tBatch Avg Accuracy: 64.82%\n",
            "Epoch 29 \tBatch Avg Train Loss: 6.08 \tBatch Avg Accuracy: 65.69%\n",
            "Epoch 30 \tBatch Avg Train Loss: 6.29 \tBatch Avg Accuracy: 64.77%\n",
            "Epoch 31 \tBatch Avg Train Loss: 6.32 \tBatch Avg Accuracy: 65.10%\n",
            "Epoch 32 \tBatch Avg Train Loss: 6.46 \tBatch Avg Accuracy: 63.16%\n",
            "Epoch 33 \tBatch Avg Train Loss: 6.29 \tBatch Avg Accuracy: 64.43%\n",
            "Epoch 34 \tBatch Avg Train Loss: 6.50 \tBatch Avg Accuracy: 64.64%\n",
            "Epoch 35 \tBatch Avg Train Loss: 6.49 \tBatch Avg Accuracy: 66.30%\n",
            "Epoch 36 \tBatch Avg Train Loss: 6.69 \tBatch Avg Accuracy: 65.35%\n",
            "Epoch 37 \tBatch Avg Train Loss: 6.55 \tBatch Avg Accuracy: 65.30%\n",
            "Epoch 38 \tBatch Avg Train Loss: 5.99 \tBatch Avg Accuracy: 69.70%\n",
            "Epoch 39 \tBatch Avg Train Loss: 5.93 \tBatch Avg Accuracy: 70.00%\n",
            "Epoch 40 \tBatch Avg Train Loss: 5.90 \tBatch Avg Accuracy: 71.19%\n",
            "Epoch 41 \tBatch Avg Train Loss: 6.35 \tBatch Avg Accuracy: 68.62%\n",
            "Epoch 42 \tBatch Avg Train Loss: 6.51 \tBatch Avg Accuracy: 67.34%\n",
            "Epoch 43 \tBatch Avg Train Loss: 6.32 \tBatch Avg Accuracy: 68.47%\n",
            "Epoch 44 \tBatch Avg Train Loss: 6.06 \tBatch Avg Accuracy: 69.01%\n",
            "Epoch 45 \tBatch Avg Train Loss: 5.92 \tBatch Avg Accuracy: 69.40%\n",
            "Epoch 46 \tBatch Avg Train Loss: 5.91 \tBatch Avg Accuracy: 68.75%\n",
            "Epoch 47 \tBatch Avg Train Loss: 5.94 \tBatch Avg Accuracy: 67.80%\n",
            "Epoch 48 \tBatch Avg Train Loss: 5.83 \tBatch Avg Accuracy: 69.10%\n",
            "Epoch 49 \tBatch Avg Train Loss: 5.76 \tBatch Avg Accuracy: 69.52%\n"
          ]
        }
      ],
      "source": [
        "use_existing_model = False\n",
        "\n",
        "if use_existing_model:\n",
        "    scnn_net.load_state_dict(torch.load(\"models/\"+network_name+\".pth\"))\n",
        "    scnn_net.eval()\n",
        "\n",
        "else:\n",
        "    train_results = network.train_network(device, scnn_net, trainloader, num_epochs=50)\n",
        "\n",
        "    loss_hist.extend(train_results[0])\n",
        "    acc_hist.extend(train_results[1])\n",
        "    loss_hist_epoch.extend(train_results[2])\n",
        "    acc_hist_epoch.extend(train_results[3])\n",
        "    if len(epoch_end) == 0:\n",
        "        epoch_end.extend(train_results[4])\n",
        "    else:\n",
        "        epoch_end.extend([(epoch_end[-1]+2) + x for x in train_results[4]])\n",
        "\n",
        "    network.plot_accuracy_and_loss(loss_hist, acc_hist, loss_hist_epoch, acc_hist_epoch, epoch_end)\n",
        "\n"
      ]
    },
    {
      "cell_type": "markdown",
      "metadata": {},
      "source": [
        "# 3 Results"
      ]
    },
    {
      "cell_type": "code",
      "execution_count": 44,
      "metadata": {},
      "outputs": [
        {
          "data": {
            "image/png": "[encoded data removed]",
            "text/plain": [
              "<Figure size 1600x400 with 3 Axes>"
            ]
          },
          "metadata": {},
          "output_type": "display_data"
        }
      ],
      "source": [
        "network.plot_parameter_distribution(scnn_net)"
      ]
    },
    {
      "cell_type": "markdown",
      "metadata": {},
      "source": [
        "### Evaluate the Network on the Test Set"
      ]
    },
    {
      "cell_type": "code",
      "execution_count": 51,
      "metadata": {},
      "outputs": [
        {
          "name": "stdout",
          "output_type": "stream",
          "text": [
            "Test progress:\n"
          ]
        },
        {
          "data": {
            "application/vnd.jupyter.widget-view+json": {
              "model_id": "bdb3c88211ba4bbfa05ee18f8e41f2a0",
              "version_major": 2,
              "version_minor": 0
            },
            "text/plain": [
              "IntProgress(value=0, max=9)"
            ]
          },
          "metadata": {},
          "output_type": "display_data"
        },
        {
          "name": "stdout",
          "output_type": "stream",
          "text": [
            "The average accuracy across the testloader is: 83.68055555555556\n"
          ]
        }
      ],
      "source": [
        "acc = network.eval_accuracy(device, scnn_net, testloader)\n",
        "print(\"The average accuracy across the testloader is:\", acc/len(testloader)*100)"
      ]
    },
    {
      "cell_type": "markdown",
      "metadata": {},
      "source": [
        "## Save the model"
      ]
    },
    {
      "cell_type": "code",
      "execution_count": 64,
      "metadata": {},
      "outputs": [],
      "source": [
        "torch.save(scnn_net.state_dict(), \"models/\"+network_name+\".pth\")"
      ]
    },
    {
      "cell_type": "markdown",
      "metadata": {},
      "source": [
        "# Evaluate the fixedpoint Network on the Test Set"
      ]
    },
    {
      "cell_type": "code",
      "execution_count": 60,
      "metadata": {},
      "outputs": [
        {
          "data": {
            "image/png": "[encoded data removed]",
            "text/plain": [
              "<Figure size 1600x400 with 3 Axes>"
            ]
          },
          "metadata": {},
          "output_type": "display_data"
        },
        {
          "name": "stdout",
          "output_type": "stream",
          "text": [
            "Test progress:\n"
          ]
        },
        {
          "data": {
            "application/vnd.jupyter.widget-view+json": {
              "model_id": "30eaf505581d4aadb9329602f472a506",
              "version_major": 2,
              "version_minor": 0
            },
            "text/plain": [
              "IntProgress(value=0, max=9)"
            ]
          },
          "metadata": {},
          "output_type": "display_data"
        },
        {
          "name": "stdout",
          "output_type": "stream",
          "text": [
            "The average accuracy across the testloader is: 57.638888888888886\n"
          ]
        }
      ],
      "source": [
        "reload(network)\n",
        "\n",
        "import neurons.quantization_utils\n",
        "reload(neurons.quantization_utils)\n",
        "from neurons.quantization_utils import copy_and_quantize_to_fixed_point\n",
        "\n",
        "# Build the fixed point network\n",
        "parameters_bit = 16\n",
        "fractional_bits = 12\n",
        "\n",
        "scnn_net_fp = network.build_fixedpoint_network(device, neuron_type, input_size, hidden_size, output_size, fractional_bits)\n",
        "copy_and_quantize_to_fixed_point(scnn_net, scnn_net_fp, parameters_bit, fractional_bits, scale=False)\n",
        "\n",
        "if parameters_bit <= 12:\n",
        "    network.plot_int_parameter_distribution(scnn_net_fp)\n",
        "else:\n",
        "    network.plot_parameter_distribution(scnn_net_fp)\n",
        "\n",
        "acc = network.eval_accuracy(device, scnn_net_fp, testloader)\n",
        "print(\"The average accuracy across the testloader is:\", acc/len(testloader)*100)"
      ]
    },
    {
      "cell_type": "markdown",
      "metadata": {},
      "source": [
        "# Evaluate the minifloat Network on the Test Set"
      ]
    },
    {
      "cell_type": "code",
      "execution_count": 63,
      "metadata": {},
      "outputs": [
        {
          "data": {
            "image/png": "[encoded data removed]",
            "text/plain": [
              "<Figure size 1600x400 with 3 Axes>"
            ]
          },
          "metadata": {},
          "output_type": "display_data"
        },
        {
          "name": "stdout",
          "output_type": "stream",
          "text": [
            "Test progress:\n"
          ]
        },
        {
          "data": {
            "application/vnd.jupyter.widget-view+json": {
              "model_id": "8e9ec59247354bb2b31de003b20f02e7",
              "version_major": 2,
              "version_minor": 0
            },
            "text/plain": [
              "IntProgress(value=0, max=9)"
            ]
          },
          "metadata": {},
          "output_type": "display_data"
        },
        {
          "name": "stdout",
          "output_type": "stream",
          "text": [
            "The average accuracy across the testloader is: 55.90277777777778\n"
          ]
        }
      ],
      "source": [
        "# Build the minifloat network\n",
        "import neurons.quantization_utils\n",
        "reload(neurons.quantization_utils)\n",
        "from neurons.quantization_utils import copy_and_quantize_to_minifloat\n",
        "\n",
        "# 1 bit for the sign\n",
        "exponent_bits = 8\n",
        "mantissa_bits = 23\n",
        "\n",
        "scnn_net_minifloat = network.build_minifloat_network(device, neuron_type, input_size, hidden_size, output_size, exponent_bits, mantissa_bits)        \n",
        "\n",
        "copy_and_quantize_to_minifloat(scnn_net, scnn_net_minifloat, exponent_bits, mantissa_bits)\n",
        "\n",
        "network.plot_parameter_distribution(scnn_net_minifloat)\n",
        "\n",
        "acc = network.eval_accuracy(device, scnn_net_minifloat, testloader)\n",
        "print(\"The average accuracy across the testloader is:\", acc/len(testloader)*100)"
      ]
    }
  ],
  "metadata": {
    "accelerator": "GPU",
    "colab": {
      "gpuType": "T4",
      "provenance": []
    },
    "kernelspec": {
      "display_name": ".venv",
      "language": "python",
      "name": "python3"
    },
    "language_info": {
      "codemirror_mode": {
        "name": "ipython",
        "version": 3
      },
      "file_extension": ".py",
      "mimetype": "text/x-python",
      "name": "python",
      "nbconvert_exporter": "python",
      "pygments_lexer": "ipython3",
      "version": "3.11.11"
    },
    "widgets": {
      "application/vnd.jupyter.widget-state+json": {
        "156f838174924805b49be2ad66e793b5": {
          "model_module": "@jupyter-widgets/controls",
          "model_module_version": "1.5.0",
          "model_name": "ProgressStyleModel",
          "state": {
            "_model_module": "@jupyter-widgets/controls",
            "_model_module_version": "1.5.0",
            "_model_name": "ProgressStyleModel",
            "_view_count": null,
            "_view_module": "@jupyter-widgets/base",
            "_view_module_version": "1.2.0",
            "_view_name": "StyleView",
            "bar_color": null,
            "description_width": ""
          }
        },
        "54aed6bf532945ee9c8f756d69714673": {
          "model_module": "@jupyter-widgets/base",
          "model_module_version": "1.2.0",
          "model_name": "LayoutModel",
          "state": {
            "_model_module": "@jupyter-widgets/base",
            "_model_module_version": "1.2.0",
            "_model_name": "LayoutModel",
            "_view_count": null,
            "_view_module": "@jupyter-widgets/base",
            "_view_module_version": "1.2.0",
            "_view_name": "LayoutView",
            "align_content": null,
            "align_items": null,
            "align_self": null,
            "border": null,
            "bottom": null,
            "display": null,
            "flex": null,
            "flex_flow": null,
            "grid_area": null,
            "grid_auto_columns": null,
            "grid_auto_flow": null,
            "grid_auto_rows": null,
            "grid_column": null,
            "grid_gap": null,
            "grid_row": null,
            "grid_template_areas": null,
            "grid_template_columns": null,
            "grid_template_rows": null,
            "height": null,
            "justify_content": null,
            "justify_items": null,
            "left": null,
            "margin": null,
            "max_height": null,
            "max_width": null,
            "min_height": null,
            "min_width": null,
            "object_fit": null,
            "object_position": null,
            "order": null,
            "overflow": null,
            "overflow_x": null,
            "overflow_y": null,
            "padding": null,
            "right": null,
            "top": null,
            "visibility": null,
            "width": null
          }
        },
        "65b936fc7fd940db8eab6847ea05d7ca": {
          "model_module": "@jupyter-widgets/controls",
          "model_module_version": "1.5.0",
          "model_name": "ProgressStyleModel",
          "state": {
            "_model_module": "@jupyter-widgets/controls",
            "_model_module_version": "1.5.0",
            "_model_name": "ProgressStyleModel",
            "_view_count": null,
            "_view_module": "@jupyter-widgets/base",
            "_view_module_version": "1.2.0",
            "_view_name": "StyleView",
            "bar_color": null,
            "description_width": ""
          }
        },
        "755b25b8bc1943389b5f9cd53f3c7862": {
          "model_module": "@jupyter-widgets/controls",
          "model_module_version": "1.5.0",
          "model_name": "IntProgressModel",
          "state": {
            "_dom_classes": [],
            "_model_module": "@jupyter-widgets/controls",
            "_model_module_version": "1.5.0",
            "_model_name": "IntProgressModel",
            "_view_count": null,
            "_view_module": "@jupyter-widgets/controls",
            "_view_module_version": "1.5.0",
            "_view_name": "ProgressView",
            "bar_style": "",
            "description": "",
            "description_tooltip": null,
            "layout": "IPY_MODEL_54aed6bf532945ee9c8f756d69714673",
            "max": 320,
            "min": 0,
            "orientation": "horizontal",
            "style": "IPY_MODEL_156f838174924805b49be2ad66e793b5",
            "value": 320
          }
        },
        "8a99b133e85f4bb695664801a50839c8": {
          "model_module": "@jupyter-widgets/controls",
          "model_module_version": "1.5.0",
          "model_name": "IntProgressModel",
          "state": {
            "_dom_classes": [],
            "_model_module": "@jupyter-widgets/controls",
            "_model_module_version": "1.5.0",
            "_model_name": "IntProgressModel",
            "_view_count": null,
            "_view_module": "@jupyter-widgets/controls",
            "_view_module_version": "1.5.0",
            "_view_name": "ProgressView",
            "bar_style": "",
            "description": "",
            "description_tooltip": null,
            "layout": "IPY_MODEL_fdbee8d3a50947f4ae15bc96922fa93e",
            "max": 640,
            "min": 0,
            "orientation": "horizontal",
            "style": "IPY_MODEL_65b936fc7fd940db8eab6847ea05d7ca",
            "value": 640
          }
        },
        "fdbee8d3a50947f4ae15bc96922fa93e": {
          "model_module": "@jupyter-widgets/base",
          "model_module_version": "1.2.0",
          "model_name": "LayoutModel",
          "state": {
            "_model_module": "@jupyter-widgets/base",
            "_model_module_version": "1.2.0",
            "_model_name": "LayoutModel",
            "_view_count": null,
            "_view_module": "@jupyter-widgets/base",
            "_view_module_version": "1.2.0",
            "_view_name": "LayoutView",
            "align_content": null,
            "align_items": null,
            "align_self": null,
            "border": null,
            "bottom": null,
            "display": null,
            "flex": null,
            "flex_flow": null,
            "grid_area": null,
            "grid_auto_columns": null,
            "grid_auto_flow": null,
            "grid_auto_rows": null,
            "grid_column": null,
            "grid_gap": null,
            "grid_row": null,
            "grid_template_areas": null,
            "grid_template_columns": null,
            "grid_template_rows": null,
            "height": null,
            "justify_content": null,
            "justify_items": null,
            "left": null,
            "margin": null,
            "max_height": null,
            "max_width": null,
            "min_height": null,
            "min_width": null,
            "object_fit": null,
            "object_position": null,
            "order": null,
            "overflow": null,
            "overflow_x": null,
            "overflow_y": null,
            "padding": null,
            "right": null,
            "top": null,
            "visibility": null,
            "width": null
          }
        }
      }
    }
  },
  "nbformat": 4,
  "nbformat_minor": 0
}
